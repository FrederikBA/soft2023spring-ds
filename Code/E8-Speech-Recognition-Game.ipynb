{
 "cells": [
  {
   "cell_type": "markdown",
   "id": "2e1e399d",
   "metadata": {},
   "source": [
    "# Speech Recognition Game"
   ]
  },
  {
   "cell_type": "markdown",
   "id": "4112c8e5",
   "metadata": {},
   "source": [
    "AI plays against a human, who tries to guess a word (or enter a voice command).<br>\n",
    "We experiment with \n",
    "- the use of microphone\n",
    "- transcribtion of spoken language\n",
    "by use of Google API\n",
    "\n",
    "Response: a dictionary with three keys:\n",
    "- response[\"success\"]: a boolean indicating whether or not the API request was successful\n",
    "- response[\"error\"]: `None` if no error occured, otherwise a string containing an error message if the API could not be reached orbspeech was unrecognizable\n",
    "- response[\"transcription\"]: a string containing the transcribed text or `None` if speech could not be transcribed"
   ]
  },
  {
   "cell_type": "code",
   "execution_count": null,
   "id": "7364ec71",
   "metadata": {},
   "outputs": [],
   "source": [
    "import random\n",
    "import time\n",
    "import speech_recognition as sr"
   ]
  },
  {
   "cell_type": "code",
   "execution_count": 55,
   "id": "b2e6eb0e",
   "metadata": {},
   "outputs": [],
   "source": [
    "# set the list of words, maxnumber of guesses, and prompt limit\n",
    "WORDS = [\"apple\", \"banana\", \"grape\", \"orange\", \"mango\", \"lemon\"]\n",
    "NUM_GUESSES = 2\n",
    "PROMPT_LIMIT = 2"
   ]
  },
  {
   "cell_type": "code",
   "execution_count": 47,
   "id": "b1861ce5",
   "metadata": {},
   "outputs": [],
   "source": [
    "# set up the response object\n",
    "response = {\n",
    "        \"success\": True,\n",
    "        \"error\": None,\n",
    "        \"transcription\": None\n",
    "}"
   ]
  },
  {
   "cell_type": "code",
   "execution_count": 48,
   "id": "bb7e01de",
   "metadata": {},
   "outputs": [],
   "source": [
    "# create recognizer and mic instances\n",
    "recognizer = sr.Recognizer()\n",
    "microphone = sr.Microphone()"
   ]
  },
  {
   "cell_type": "code",
   "execution_count": 49,
   "id": "a9286bef",
   "metadata": {},
   "outputs": [],
   "source": [
    "# check that recognizer and microphone arguments are appropriate type\n",
    "if not isinstance(recognizer, sr.Recognizer):\n",
    "        raise TypeError(\"`recognizer` must be `Recognizer` instance\")\n",
    "\n",
    "if not isinstance(microphone, sr.Microphone):\n",
    "        raise TypeError(\"`microphone` must be `Microphone` instance\")"
   ]
  },
  {
   "cell_type": "code",
   "execution_count": 50,
   "id": "b67334cb",
   "metadata": {},
   "outputs": [],
   "source": [
    "# Transcribe speech from recorded from `microphone`\n",
    "def recognize_speech_from_mic(recognizer, microphone):\n",
    "    \n",
    "    # adjust the recognizer sensitivity to ambient noise and record audio from the microphone\n",
    "    with microphone as source:\n",
    "        recognizer.adjust_for_ambient_noise(source)\n",
    "        audio = recognizer.listen(source)\n",
    "\n",
    "    \n",
    "    # try recognizing the speech in the recording\n",
    "    # if a RequestError or UnknownValueError exception is caught, update the response object accordingly\n",
    "    try:\n",
    "        response[\"transcription\"] = recognizer.recognize_google(audio)\n",
    "    except sr.RequestError:\n",
    "        # API was unreachable or unresponsive\n",
    "        response[\"success\"] = False\n",
    "        response[\"error\"] = \"API unavailable\"\n",
    "    except sr.UnknownValueError:\n",
    "        # speech was unintelligible\n",
    "        response[\"error\"] = \"Unable to recognize speech\"\n",
    "\n",
    "    return response\n"
   ]
  },
  {
   "cell_type": "markdown",
   "id": "32abaadd",
   "metadata": {},
   "source": [
    "## AI Play"
   ]
  },
  {
   "cell_type": "code",
   "execution_count": 56,
   "id": "34b187e1",
   "metadata": {},
   "outputs": [
    {
     "data": {
      "text/plain": [
       "'lemon'"
      ]
     },
     "execution_count": 56,
     "metadata": {},
     "output_type": "execute_result"
    }
   ],
   "source": [
    "# get a random word from the list\n",
    "word = random.choice(WORDS)\n",
    "word"
   ]
  },
  {
   "cell_type": "code",
   "execution_count": 57,
   "id": "ee69d03c",
   "metadata": {},
   "outputs": [],
   "source": [
    "# print instructions\n",
    "instructions = ( \"I'm thinking of one of these words: {words}. You have {n} tries to guess which one.\\n\"\n",
    "               ).format(words=', '.join(WORDS), n = NUM_GUESSES)"
   ]
  },
  {
   "cell_type": "code",
   "execution_count": 58,
   "id": "a84e80ab",
   "metadata": {},
   "outputs": [
    {
     "name": "stdout",
     "output_type": "stream",
     "text": [
      "I'm thinking of one of these words: apple, banana, grape, orange, mango, lemon. You have 2 tries to guess which one.\n",
      "\n"
     ]
    }
   ],
   "source": [
    "# show instructions and wait 3 seconds before starting the game\n",
    "print(instructions)\n",
    "time.sleep(3)"
   ]
  },
  {
   "cell_type": "code",
   "execution_count": 60,
   "id": "1e581012",
   "metadata": {},
   "outputs": [
    {
     "name": "stdout",
     "output_type": "stream",
     "text": [
      "Guess 1. Speak!\n",
      "result2:\n",
      "[]\n",
      "Incorrect. Try again.\n",
      "\n",
      "Guess 2. Speak!\n",
      "result2:\n",
      "{   'alternative': [   {'confidence': 0.87658823, 'transcript': 'apple'},\n",
      "                       {'transcript': 'Airport'},\n",
      "                       {'transcript': 'April'},\n",
      "                       {'transcript': 'purple'}],\n",
      "    'final': True}\n",
      "Sorry, you lose! I was thinking of 'lemon'.\n"
     ]
    }
   ],
   "source": [
    "for i in range(NUM_GUESSES):\n",
    "    for j in range(PROMPT_LIMIT):\n",
    "        print('Guess {}. Speak!'.format(i+1))\n",
    "        guess = recognize_speech_from_mic(recognizer, microphone)\n",
    "        \n",
    "        if guess[\"transcription\"]:\n",
    "                break\n",
    "        if not guess[\"success\"]:\n",
    "                break\n",
    "        print(\"I didn't catch that. What did you say?\\n\")\n",
    "\n",
    "        # if there was an error, stop the game\n",
    "        if guess[\"error\"]:\n",
    "            print(\"ERROR: {}\".format(guess[\"error\"]))\n",
    "            break\n",
    "\n",
    "        # show the user the transcription\n",
    "        print(\"You said: {}\".format(guess[\"transcription\"]))\n",
    "\n",
    "    # determine if guess is correct and if any attempts remain\n",
    "    guess_is_correct = guess[\"transcription\"].lower() == word.lower()\n",
    "    user_has_more_attempts = i < NUM_GUESSES - 1\n",
    "\n",
    "        # determine if the user has won the game\n",
    "        # if not, repeat the loop if user has more attempts\n",
    "        # if no attempts left, the user loses the game\n",
    "    if guess_is_correct:\n",
    "            print(\"Correct! You win!\")\n",
    "            break\n",
    "    elif user_has_more_attempts:\n",
    "            print(\"Incorrect. Try again.\\n\")\n",
    "    else:\n",
    "            print(\"Sorry, you lose! I was thinking of '{}'.\".format(word))\n",
    "            break\n"
   ]
  },
  {
   "cell_type": "markdown",
   "id": "244d017b",
   "metadata": {},
   "source": [
    "## Reference\n",
    "https://realpython.com/python-speech-recognition/"
   ]
  },
  {
   "cell_type": "code",
   "execution_count": null,
   "id": "2fbd6388",
   "metadata": {},
   "outputs": [],
   "source": []
  }
 ],
 "metadata": {
  "kernelspec": {
   "display_name": "Python 3 (ipykernel)",
   "language": "python",
   "name": "python3"
  },
  "language_info": {
   "codemirror_mode": {
    "name": "ipython",
    "version": 3
   },
   "file_extension": ".py",
   "mimetype": "text/x-python",
   "name": "python",
   "nbconvert_exporter": "python",
   "pygments_lexer": "ipython3",
   "version": "3.9.13"
  }
 },
 "nbformat": 4,
 "nbformat_minor": 5
}
