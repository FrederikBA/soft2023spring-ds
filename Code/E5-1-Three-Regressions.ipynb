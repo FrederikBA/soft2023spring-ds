{
 "cells": [
  {
   "cell_type": "markdown",
   "metadata": {},
   "source": [
    "# E5-1 Predicting House Prices by Regression\n",
    "This example demonstrates machine learning by regression.\n",
    "We will be using three regression algorithms:\n",
    "- linear regression\n",
    "- multiple linear regression\n",
    "- polynomial regression\n",
    "\n",
    "The dataset comes from King County, USA (kaggle.com)."
   ]
  },
  {
   "cell_type": "markdown",
   "metadata": {},
   "source": [
    "## Step 1: Imports"
   ]
  },
  {
   "cell_type": "code",
   "execution_count": null,
   "metadata": {
    "_uuid": "7067eed449bc9fd5121e1c17e3765d5a6aebc345"
   },
   "outputs": [],
   "source": [
    "import numpy as np\n",
    "import pandas as pd\n",
    "\n",
    "from sklearn.model_selection import train_test_split\n",
    "from sklearn import linear_model\n",
    "from sklearn.preprocessing import PolynomialFeatures\n",
    "from sklearn import metrics as sm\n",
    "\n",
    "import matplotlib.pyplot as plt\n",
    "import seaborn as sns\n",
    "%matplotlib inline\n",
    "\n",
    "from mpl_toolkits.mplot3d import Axes3D"
   ]
  },
  {
   "cell_type": "markdown",
   "metadata": {},
   "source": [
    "## Step 2: Data"
   ]
  },
  {
   "cell_type": "code",
   "execution_count": null,
   "metadata": {},
   "outputs": [],
   "source": [
    "# read the data\n",
    "df = pd.read_csv(\"../../data/kc_house_data.csv\")"
   ]
  },
  {
   "cell_type": "code",
   "execution_count": null,
   "metadata": {},
   "outputs": [],
   "source": [
    "df"
   ]
  },
  {
   "cell_type": "code",
   "execution_count": null,
   "metadata": {
    "_uuid": "2c69cc62eb545d1da46102e67852a72c97a794d1"
   },
   "outputs": [],
   "source": [
    "# get idea of the look\n",
    "df.head()"
   ]
  },
  {
   "cell_type": "code",
   "execution_count": null,
   "metadata": {},
   "outputs": [],
   "source": [
    "# convert sqft to sqm\n",
    "df['sqm'] = df['sqft_living']/10.764"
   ]
  },
  {
   "cell_type": "code",
   "execution_count": null,
   "metadata": {},
   "outputs": [],
   "source": [
    "df.describe()"
   ]
  },
  {
   "cell_type": "code",
   "execution_count": null,
   "metadata": {},
   "outputs": [],
   "source": [
    "# see which are the attribute labels\n",
    "list(df)"
   ]
  },
  {
   "cell_type": "code",
   "execution_count": null,
   "metadata": {},
   "outputs": [],
   "source": [
    "df.info()"
   ]
  },
  {
   "cell_type": "code",
   "execution_count": null,
   "metadata": {},
   "outputs": [],
   "source": [
    "# get idea of columns and types\n",
    "df.info()"
   ]
  },
  {
   "cell_type": "code",
   "execution_count": null,
   "metadata": {
    "_uuid": "f14f39886b01c812da46eedc95a0ffc47e37ead2"
   },
   "outputs": [],
   "source": [
    "# get idea of basic statistical parameters for each column\n",
    "df.describe()"
   ]
  },
  {
   "cell_type": "code",
   "execution_count": null,
   "metadata": {
    "_uuid": "113ec24cf5d89a65ea0d41c3766b8f2265d71ce0"
   },
   "outputs": [],
   "source": [
    "# to avoid scientific notation, e.g. e+04\n",
    "pd.set_option('display.float_format', lambda x: '%.2f' % x)"
   ]
  },
  {
   "cell_type": "code",
   "execution_count": null,
   "metadata": {
    "_uuid": "799af0c564fbb7dda045e1651ad657199aaf9d12"
   },
   "outputs": [],
   "source": [
    "df.describe()"
   ]
  },
  {
   "cell_type": "code",
   "execution_count": null,
   "metadata": {
    "_uuid": "3edd5faef2f56bbd1acadb0b65be434a3a7c181c"
   },
   "outputs": [],
   "source": [
    "# to check null values in data\n",
    "df.isnull().sum()"
   ]
  },
  {
   "cell_type": "markdown",
   "metadata": {
    "_uuid": "179528edab1c7474bb4e7eda4179408d9f2c384e"
   },
   "source": [
    "Above representation shows that our data does not have any null values"
   ]
  },
  {
   "cell_type": "code",
   "execution_count": null,
   "metadata": {},
   "outputs": [],
   "source": [
    "# same visualized\n",
    "sns.heatmap(df.isnull(), yticklabels= False, cbar=False, cmap= 'viridis')"
   ]
  },
  {
   "cell_type": "code",
   "execution_count": null,
   "metadata": {
    "_uuid": "3b62de2956e8484b4b6b63314d961a55d12cd0bc"
   },
   "outputs": [],
   "source": [
    "df['bedrooms'].value_counts().plot(kind='bar')"
   ]
  },
  {
   "cell_type": "code",
   "execution_count": null,
   "metadata": {},
   "outputs": [],
   "source": [
    "# same, with anmother plot lib\n",
    "sns.countplot(df.bedrooms, order = df['bedrooms'].value_counts().index)"
   ]
  },
  {
   "cell_type": "code",
   "execution_count": null,
   "metadata": {},
   "outputs": [],
   "source": [
    "# Did the size matter?\n",
    "ranges = [0,100,200,300,400,500,600,700,800, 900, 1000, 1100, 1200, 1300] \n",
    "df['sqm'].groupby([(pd.cut(df.sqm, ranges))]).count()"
   ]
  },
  {
   "cell_type": "code",
   "execution_count": null,
   "metadata": {
    "_uuid": "3a1939668d53b7fc51c0a30373c98194737565eb"
   },
   "outputs": [],
   "source": [
    "sns.distplot(df['sqm'],  label='sqm_living', norm_hist=True)  "
   ]
  },
  {
   "cell_type": "code",
   "execution_count": null,
   "metadata": {
    "_uuid": "06d9dfc3db9d1fc83d70c31685e63918a8b34dfc"
   },
   "outputs": [],
   "source": [
    "df['waterfront'].value_counts()"
   ]
  },
  {
   "cell_type": "markdown",
   "metadata": {
    "_uuid": "89e00de06856bf77ab110688fc9ad89e26d58cd6"
   },
   "source": [
    "163 houses which have a view to a waterfront"
   ]
  },
  {
   "cell_type": "code",
   "execution_count": null,
   "metadata": {
    "_uuid": "bec59897697727c8ffdeb2e9de8c086c3e4efe69"
   },
   "outputs": [],
   "source": [
    "df['view'].value_counts()"
   ]
  },
  {
   "cell_type": "markdown",
   "metadata": {
    "_uuid": "fd1d7c9a78f44f833d2726d63aab59df0cea9ad9"
   },
   "source": [
    "19489 flats have not been viewed at all, whereas 319 flats have been viewed 4 times"
   ]
  },
  {
   "cell_type": "markdown",
   "metadata": {},
   "source": [
    "### Investigate the inter-dependencies of the columns\n",
    "Create a correlation matrix to see which features determine the output at most, as well as whether there are some correlated features. <br>\n",
    "If two features are correlated, only one of them can represent both."
   ]
  },
  {
   "cell_type": "code",
   "execution_count": null,
   "metadata": {},
   "outputs": [],
   "source": [
    "corr_matrix = df.corr()\n",
    "corr_matrix"
   ]
  },
  {
   "cell_type": "code",
   "execution_count": null,
   "metadata": {
    "_uuid": "67ea8c247787fc03eff4a623339d4fef5288d3cc"
   },
   "outputs": [],
   "source": [
    "# plot the matrix as a heat map\n",
    "plt.subplots(figsize = (16, 12))\n",
    "sns.heatmap(corr_matrix, annot=True)"
   ]
  },
  {
   "cell_type": "markdown",
   "metadata": {},
   "source": [
    "## Step 3: Train a Model"
   ]
  },
  {
   "cell_type": "markdown",
   "metadata": {},
   "source": [
    "## 3.1 Linear Regression"
   ]
  },
  {
   "cell_type": "code",
   "execution_count": null,
   "metadata": {},
   "outputs": [],
   "source": [
    "# split the set into subsets for training and testing\n",
    "train_data, test_data = train_test_split(df, train_size =0.8, random_state = 3)"
   ]
  },
  {
   "cell_type": "code",
   "execution_count": null,
   "metadata": {
    "_uuid": "482a102b6c7db55209f9e861067dfc673e3ee6e6"
   },
   "outputs": [],
   "source": [
    "# We chose the living space in sqm as an input and price as an output\n",
    "# reshape(-1,1) reshapes the column in one-dimensional array (1 column) and unknown number of rows (-1)\n",
    "X_train = np.array(train_data['sqm']).reshape(-1,1)\n",
    "y_train = np.array(train_data['price']).reshape(-1, 1)\n",
    "X_test = np.array(test_data['sqm']).reshape(-1,1)\n",
    "y_test = np.array(test_data['price']).reshape(-1, 1)"
   ]
  },
  {
   "cell_type": "code",
   "execution_count": null,
   "metadata": {},
   "outputs": [],
   "source": [
    "y_train"
   ]
  },
  {
   "cell_type": "code",
   "execution_count": null,
   "metadata": {},
   "outputs": [],
   "source": [
    "# plot the train set\n",
    "plt.xlabel('Living Space')\n",
    "plt.ylabel('price')\n",
    "\n",
    "plt.scatter(X_train, y_train, color='brown')\n",
    "\n",
    "plt.show()"
   ]
  },
  {
   "cell_type": "code",
   "execution_count": null,
   "metadata": {},
   "outputs": [],
   "source": [
    "# plot the test set\n",
    "plt.xlabel('Living Space')\n",
    "plt.ylabel('price')\n",
    "\n",
    "plt.scatter(X_test, y_test, color='green')\n",
    "\n",
    "plt.show()"
   ]
  },
  {
   "cell_type": "code",
   "execution_count": null,
   "metadata": {},
   "outputs": [],
   "source": [
    "# Create regressor\n",
    "regressor = linear_model.LinearRegression()"
   ]
  },
  {
   "cell_type": "code",
   "execution_count": null,
   "metadata": {},
   "outputs": [],
   "source": [
    "# Train model\n",
    "model = regressor.fit(X_train, y_train)"
   ]
  },
  {
   "cell_type": "markdown",
   "metadata": {},
   "source": [
    "## Step 4: Test the Model"
   ]
  },
  {
   "cell_type": "code",
   "execution_count": null,
   "metadata": {
    "_uuid": "ec0881a8551740e613bcd899241c19e11628f33f"
   },
   "outputs": [],
   "source": [
    "# make prediction\n",
    "y_predicted = regressor.predict(X_test)"
   ]
  },
  {
   "cell_type": "code",
   "execution_count": null,
   "metadata": {},
   "outputs": [],
   "source": [
    "y_predicted"
   ]
  },
  {
   "cell_type": "code",
   "execution_count": null,
   "metadata": {},
   "outputs": [],
   "source": [
    "y_test"
   ]
  },
  {
   "cell_type": "code",
   "execution_count": null,
   "metadata": {},
   "outputs": [],
   "source": [
    "# plot the prediction\n",
    "plt.xlabel('Living Space')\n",
    "plt.ylabel('price')\n",
    "plt.legend()\n",
    "\n",
    "plt.scatter(X_test, y_test, color='green', label = 'test data')\n",
    "plt.plot(X_test, y_predicted, color='red', linewidth=2, label= 'predicted regression line')\n",
    "\n",
    "# y_predicted, X_test, \n",
    "plt.show()"
   ]
  },
  {
   "cell_type": "code",
   "execution_count": null,
   "metadata": {},
   "outputs": [],
   "source": [
    "# Compute the coeficients a and b\n",
    "# so the formula would be y = ax + b\n",
    "a = regressor.coef_\n",
    "b = regressor.intercept_\n",
    "print('Coefficient a: ', a)\n",
    "print('Intercept b: ', b)"
   ]
  },
  {
   "cell_type": "code",
   "execution_count": null,
   "metadata": {},
   "outputs": [],
   "source": [
    "# Compute performance metrics\n",
    "print(\"Linear Regressor Performance\")\n",
    "\n",
    "# The mean squared error\n",
    "print(\"Mean squared error: %.2f\" % sm.mean_squared_error(y_test, y_predicted))\n",
    "\n",
    "# Explained variance score: 1 is perfect prediction\n",
    "print('Explained variance score ', round(sm.explained_variance_score(y_test, y_predicted), 2))\n",
    "print('R-squared (training) ', round(regressor.score(X_train, y_train), 2))\n",
    "print('R-squared (testing) ',  round(regressor.score(X_test, y_test), 2))\n",
    "print('R2 score: %.2f' % sm.r2_score(y_test, y_predicted))"
   ]
  },
  {
   "cell_type": "code",
   "execution_count": null,
   "metadata": {
    "_uuid": "bc0a0d6e6538cb9a2c364ebf48b7755e4f882a65"
   },
   "outputs": [],
   "source": [
    "plt.scatter(X_test, y_test, color= 'darkgreen', label = 'data')\n",
    "plt.plot(X_train, regressor.predict(X_train), color='red', label= ' Predicted Regression line')\n",
    "plt.xlabel('Living Space (sqm)')\n",
    "plt.ylabel('price')\n",
    "plt.legend()"
   ]
  },
  {
   "cell_type": "markdown",
   "metadata": {},
   "source": [
    "## 3.2 Multiple Regression\n",
    "This is a linear regression, where more input features participate.<br>\n",
    "_y = c + a1 x X1 + a2 x X2 + a3 x X3 + a4 x X4 + a5 x X5 + a6 x X6_"
   ]
  },
  {
   "cell_type": "code",
   "execution_count": null,
   "metadata": {},
   "outputs": [],
   "source": [
    "# select features\n",
    "features1 = ['bedrooms','bathrooms','grade']\n",
    "regressor1 = linear_model.LinearRegression()"
   ]
  },
  {
   "cell_type": "code",
   "execution_count": null,
   "metadata": {},
   "outputs": [],
   "source": [
    "regressor1.fit(train_data[features1],train_data['price'])"
   ]
  },
  {
   "cell_type": "code",
   "execution_count": null,
   "metadata": {},
   "outputs": [],
   "source": [
    "y_prediction = regressor1.predict(test_data[features1])"
   ]
  },
  {
   "cell_type": "code",
   "execution_count": null,
   "metadata": {},
   "outputs": [],
   "source": [
    "# Compute performance metrics\n",
    "print(\"Multiple Regression Performance\")\n",
    "\n",
    "# The coefficients\n",
    "print('Coefficients ai (one for each input variable/feature): ', regressor1.coef_)\n",
    "print('Intercept c: ', regressor1.intercept_)"
   ]
  },
  {
   "cell_type": "code",
   "execution_count": null,
   "metadata": {},
   "outputs": [],
   "source": [
    "# The mean squared error\n",
    "print(\"Mean squared error: %.2f\" % sm.mean_squared_error(y_test, y_prediction))\n",
    "\n",
    "# Explained variance score: 1 is perfect prediction\n",
    "print('R-squared (training) ', round(regressor1.score(train_data[features1], train_data['price']), 3))\n",
    "print('R-squared (testing) ', round(regressor1.score(test_data[features1], test_data['price']), 3))\n",
    "print('Explained variance score ', round(sm.explained_variance_score(y_test, y_prediction), 2))\n",
    "print('R2 score: %.2f' % sm.r2_score(y_test, y_prediction))"
   ]
  },
  {
   "cell_type": "markdown",
   "metadata": {},
   "source": [
    "__Exercise__: Try another combination of features"
   ]
  },
  {
   "cell_type": "markdown",
   "metadata": {},
   "source": [
    "## 3.3 Polynomial Regression \n",
    "It is a form of regression, in which the relationship between the independent variable __X__ and the dependent variable __y__ is modelled as an __n-th degree__ polynomial in x.<br>\n",
    "_y = a + b1 x X + b2 x X^2 + ... + bn x X^n_"
   ]
  },
  {
   "cell_type": "code",
   "execution_count": null,
   "metadata": {},
   "outputs": [],
   "source": [
    "y_train_poly = np.array(train_data['price']).reshape(-1, 1)"
   ]
  },
  {
   "cell_type": "code",
   "execution_count": null,
   "metadata": {
    "_uuid": "482a102b6c7db55209f9e861067dfc673e3ee6e6"
   },
   "outputs": [],
   "source": [
    "# We chose the living space in sqm as an input and price as an output\n",
    "# reshape(-1,1) reshapes the column in one-dimensional array (1 column) and unknown number of rows (-1)\n",
    "X_train = np.array(train_data['sqm']).reshape(-1,1)\n",
    "y_train = np.array(train_data['price']).reshape(-1, 1)\n",
    "X_test = np.array(test_data['sqm']).reshape(-1,1)\n",
    "y_test = np.array(test_data['price']).reshape(-1, 1)"
   ]
  },
  {
   "cell_type": "code",
   "execution_count": null,
   "metadata": {},
   "outputs": [],
   "source": [
    "# polynimial regressi0n transforms the features of X from [x_1, x_2]\n",
    "# to [1, x_1, x_2, x_1^2, x_1 x_2, x_2^2] \n",
    "# so now they can be used in a linear regression model\n",
    "# features2 = ['sqm','waterfront','yr_built']\n",
    "features2 = 'sqm'\n",
    "train_data_feature = train_data[features2].values.reshape(-1,1)\n",
    "test_data_feature = test_data[features2].values.reshape(-1,1)\n",
    "#y_train_data_reshaped = y_train.values.reshape(-1,1)\n",
    "# train_data['price']"
   ]
  },
  {
   "cell_type": "code",
   "execution_count": null,
   "metadata": {},
   "outputs": [],
   "source": [
    "from sklearn.preprocessing import PolynomialFeatures\n",
    "def polynomial_regression_model(degree):\n",
    "    \n",
    "  poly_features = PolynomialFeatures(degree=degree)\n",
    "  \n",
    "  # transforms the existing features to higher degree features.\n",
    "  X_train_poly = poly_features.fit_transform(X_train)\n",
    "  X_test_poly =  poly_features.fit_transform(X_test)\n",
    "  \n",
    "  # fit the transformed features to Linear Regression\n",
    "  model = linear_model.LinearRegression()\n",
    "  poly_model = model.fit(X_train_poly, y_train)\n",
    "  \n",
    "  # predicting on training data-set\n",
    "  y_train_predicted = poly_model.predict(X_train_poly)\n",
    "  \n",
    "  # predicting on test data-set\n",
    "  y_test_predicted = poly_model.predict(X_test_poly)"
   ]
  },
  {
   "cell_type": "code",
   "execution_count": null,
   "metadata": {},
   "outputs": [],
   "source": [
    "# execute\n",
    "polynomial_regression_model(2)"
   ]
  },
  {
   "cell_type": "code",
   "execution_count": null,
   "metadata": {},
   "outputs": [],
   "source": [
    "poly = PolynomialFeatures(degree=2)\n",
    "X_train_poly = poly.fit_transform(train_data_feature)\n",
    "X_test_poly = poly.fit_transform(test_data_feature)\n",
    "y_train_poly = np.array(train_data['price']).reshape(-1, 1)\n",
    "y_test_poly = np.array(test_data['price']).reshape(-1, 1)\n",
    "#poly.fit(X_train_poly, train_data['price'].values.reshape(-1,1))\n",
    "# poly.fit(X_train_poly, y_train)"
   ]
  },
  {
   "cell_type": "code",
   "execution_count": null,
   "metadata": {
    "_uuid": "d0b8a9d1570d9922210445cb12ac088bfa98da29"
   },
   "outputs": [],
   "source": [
    "# use linear regression\n",
    "model = linear_model.LinearRegression()\n",
    "model.fit(X_train_poly, y_train)"
   ]
  },
  {
   "cell_type": "code",
   "execution_count": null,
   "metadata": {},
   "outputs": [],
   "source": [
    "# linear prediction with poly fit data\n",
    "y_train_predicted = model.predict(X_train_poly)\n",
    "y_test_predicted = model.predict(X_test_poly)  "
   ]
  },
  {
   "cell_type": "code",
   "execution_count": null,
   "metadata": {},
   "outputs": [],
   "source": [
    "# y_train_predicted\n",
    "y_test_predicted"
   ]
  },
  {
   "cell_type": "code",
   "execution_count": null,
   "metadata": {},
   "outputs": [],
   "source": [
    "# RMSE (Root mean squared error) answers the question: \"How similar, on average, are the numbers in list1 to list2?\"  \n",
    "# evaluating the model on training dataset\n",
    "rmse_train = np.sqrt(sm.mean_squared_error(y_train, y_train_predicted))\n",
    "r2_train = sm.r2_score(y_train, y_train_predicted)\n",
    "  \n",
    "# evaluating the model on test dataset\n",
    "rmse_test = np.sqrt(sm.mean_squared_error(y_test, y_test_predicted))\n",
    "r2_test = sm.r2_score(y_test, y_test_predicted)"
   ]
  },
  {
   "cell_type": "code",
   "execution_count": null,
   "metadata": {},
   "outputs": [],
   "source": [
    "# print the measures - positive?\n",
    "print('RMSE (training) ',rmse_train)\n",
    "print('RMSE (testing) ',rmse_test)"
   ]
  },
  {
   "cell_type": "code",
   "execution_count": null,
   "metadata": {},
   "outputs": [],
   "source": [
    "# Compute other performance metrics\n",
    "print(\"Multiple Regression Performance\")\n",
    "\n",
    "# The coefficients\n",
    "print('Coefficient: ', model.coef_)\n",
    "print('Intercept: ', model.intercept_)\n",
    "\n",
    "# Explained variance score: 1 is perfect prediction\n",
    "print('R-squared (training) ', round(r2_train, 3))\n",
    "print('R-squared (testing) ', round(r2_test, 3))"
   ]
  },
  {
   "cell_type": "code",
   "execution_count": null,
   "metadata": {},
   "outputs": [],
   "source": [
    "# compare \n",
    "print('Explained variance score ', round(sm.explained_variance_score(y_train, y_train_predicted), 3))\n",
    "print('Explained variance score ', round(sm.explained_variance_score(y_test, y_test_predicted), 3))"
   ]
  },
  {
   "cell_type": "code",
   "execution_count": null,
   "metadata": {},
   "outputs": [],
   "source": [
    "# Plot\n",
    "plt.title('Polynomial Regression') \n",
    "plt.xlabel('feature')\n",
    "plt.ylabel('price')\n",
    "plt.scatter(test_data_feature, y_test,  color = 'green', label = 'test data') \n",
    "  \n",
    "#plt.plot(X_plot_poly,model.predict(X_plot_poly),'-r')\n",
    "plt.plot(test_data_feature, y_test_poly, '-r', color='red', linewidth=1)\n",
    "plt.plot(test_data_feature, y_test_predicted, '-r', color='red', linewidth=1)\n",
    "plt.show()"
   ]
  },
  {
   "cell_type": "markdown",
   "metadata": {},
   "source": [
    "## Reference\n",
    "https://www.kaggle.com/aniketg11/predicting-house-prices-through-regression/notebook <br>\n",
    "https://www.dataquest.io/blog/understanding-regression-error-metrics/ <br>"
   ]
  }
 ],
 "metadata": {
  "kernelspec": {
   "display_name": "Python 3 (ipykernel)",
   "language": "python",
   "name": "python3"
  },
  "language_info": {
   "codemirror_mode": {
    "name": "ipython",
    "version": 3
   },
   "file_extension": ".py",
   "mimetype": "text/x-python",
   "name": "python",
   "nbconvert_exporter": "python",
   "pygments_lexer": "ipython3",
   "version": "3.9.13"
  }
 },
 "nbformat": 4,
 "nbformat_minor": 1
}
